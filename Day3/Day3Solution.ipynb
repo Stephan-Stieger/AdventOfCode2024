{
 "cells": [
  {
   "metadata": {
    "collapsed": true,
    "ExecuteTime": {
     "end_time": "2024-12-08T17:09:23.108424Z",
     "start_time": "2024-12-08T17:09:23.097038Z"
    }
   },
   "cell_type": "code",
   "source": [
    "# Read the file and store the data in a list\n",
    "with open('data.txt', 'r') as file:\n",
    "    data = file.readlines()\n",
    "\n",
    "# Process the data to remove any leading/trailing whitespace and split into pairs\n",
    "data = [line.strip().split() for line in data]\n",
    "\n",
    "\n",
    "# Print the data to verify\n",
    "print(data)"
   ],
   "id": "daa02bb7b9cc293",
   "outputs": [
    {
     "name": "stdout",
     "output_type": "stream",
     "text": [
      "[]\n"
     ]
    }
   ],
   "execution_count": 1
  }
 ],
 "metadata": {
  "kernelspec": {
   "display_name": "Python 3",
   "language": "python",
   "name": "python3"
  },
  "language_info": {
   "codemirror_mode": {
    "name": "ipython",
    "version": 2
   },
   "file_extension": ".py",
   "mimetype": "text/x-python",
   "name": "python",
   "nbconvert_exporter": "python",
   "pygments_lexer": "ipython2",
   "version": "2.7.6"
  }
 },
 "nbformat": 4,
 "nbformat_minor": 5
}
