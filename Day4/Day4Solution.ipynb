{
 "cells": [
  {
   "cell_type": "code",
   "id": "initial_id",
   "metadata": {
    "collapsed": true,
    "ExecuteTime": {
     "end_time": "2024-12-08T17:26:31.514361Z",
     "start_time": "2024-12-08T17:26:31.509392Z"
    }
   },
   "source": [
    "with open('data.txt', 'r') as file:\n",
    "    File = file.readlines()\n",
    "\n",
    "grid = [list(line.strip()) for line in File]"
   ],
   "outputs": [],
   "execution_count": 7
  },
  {
   "metadata": {
    "ExecuteTime": {
     "end_time": "2024-12-08T17:26:31.593032Z",
     "start_time": "2024-12-08T17:26:31.520585Z"
    }
   },
   "cell_type": "code",
   "source": [
    "\n",
    "\n",
    "word = \"XMAS\"\n",
    "word_len = len(word)\n",
    "\n",
    "def search_word(grid, word):\n",
    "    rows = len(grid)\n",
    "    cols = len(grid[0])\n",
    "    count = 0\n",
    "\n",
    "\n",
    "    directions = [(0, 1), (0, -1), (1, 0), (-1, 0), (1, 1), (1, -1), (-1, 1), (-1, -1)]\n",
    "\n",
    "    for r in range(rows):\n",
    "        for c in range(cols):\n",
    "            for dr, dc in directions:\n",
    "                found = True\n",
    "                for k in range(word_len):\n",
    "                    nr, nc = r + k * dr, c + k * dc\n",
    "                    if nr < 0 or nr >= rows or nc < 0 or nc >= cols or grid[nr][nc] != word[k]:\n",
    "                        found = False\n",
    "                        break\n",
    "                if found:\n",
    "                    count += 1\n",
    "\n",
    "    return count\n",
    "\n",
    "count = search_word(grid, word)\n",
    "\n",
    "print(count)"
   ],
   "id": "5a592cb666e9a39b",
   "outputs": [
    {
     "name": "stdout",
     "output_type": "stream",
     "text": [
      "2427\n"
     ]
    }
   ],
   "execution_count": 8
  }
 ],
 "metadata": {
  "kernelspec": {
   "display_name": "Python 3",
   "language": "python",
   "name": "python3"
  },
  "language_info": {
   "codemirror_mode": {
    "name": "ipython",
    "version": 2
   },
   "file_extension": ".py",
   "mimetype": "text/x-python",
   "name": "python",
   "nbconvert_exporter": "python",
   "pygments_lexer": "ipython2",
   "version": "2.7.6"
  }
 },
 "nbformat": 4,
 "nbformat_minor": 5
}
