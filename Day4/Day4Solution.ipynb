{
 "cells": [
  {
   "cell_type": "code",
   "id": "initial_id",
   "metadata": {
    "collapsed": true,
    "ExecuteTime": {
     "end_time": "2024-12-08T17:19:59.147973Z",
     "start_time": "2024-12-08T17:19:59.128828Z"
    }
   },
   "source": [
    "# Read the file and store the data in a list\n",
    "with open('data.txt', 'r') as file:\n",
    "    File = file.readlines()\n",
    "\n",
    "data = \"\"\n",
    "for line in File:\n",
    "    data += line\n",
    "\n",
    "# Print the data to verify\n",
    "print(data)"
   ],
   "outputs": [
    {
     "name": "stdout",
     "output_type": "stream",
     "text": [
      "\n"
     ]
    }
   ],
   "execution_count": 1
  }
 ],
 "metadata": {
  "kernelspec": {
   "display_name": "Python 3",
   "language": "python",
   "name": "python3"
  },
  "language_info": {
   "codemirror_mode": {
    "name": "ipython",
    "version": 2
   },
   "file_extension": ".py",
   "mimetype": "text/x-python",
   "name": "python",
   "nbconvert_exporter": "python",
   "pygments_lexer": "ipython2",
   "version": "2.7.6"
  }
 },
 "nbformat": 4,
 "nbformat_minor": 5
}
